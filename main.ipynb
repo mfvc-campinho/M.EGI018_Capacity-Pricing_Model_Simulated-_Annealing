{
 "cells": [
  {
   "cell_type": "markdown",
   "metadata": {
    "id": "7P2S4T5SPwXG"
   },
   "source": [
    "**<h1>[M.EGI018] Operations Management Project</h1>**\n",
    "\n",
    "**<h2>Capacity-Pricing Model - Simulated Annealing</h2>**\n",
    "\n",
    "* **Daniel Pereira** (upXXXXXXXXX@fe.up.pt)\n",
    "* **João Pedro** (upXXXXXXXXX@fe.up.pt)\n",
    "* **Lynn** (upXXXXXXXXX@fe.up.pt)\n",
    "* **Matheus Campinho** (up202402072@fe.up.pt)\n",
    "* **Rui Rodrigues** (upXXXXXXXXX@fe.up.pt)\n",
    "<p> Department of Industrial Engineering and Management </p>  \n",
    "FEUP  \n",
    "\n",
    "----"
   ]
  },
  {
   "cell_type": "markdown",
   "metadata": {
    "id": "U9GIS4k2QhH8"
   },
   "source": [
    "**<h1>Content</h1>**\n",
    "\n",
    "<a href=\"#ref1\">1. Problem Description</a>  \n",
    "<a href=\"#ref2\">2. Mathematical Model</a>  \n",
    "\n",
    "> <a href=\"#ref3\">2.1. Indices and Parameters</a>  \n",
    "> <a href=\"#ref4\">2.2. Decision Variables</a>  \n",
    "> <a href=\"#ref5\">2.3.Objective Function</a>  \n",
    "> <a href=\"#ref6\">2.4. Constraints</a>  \n",
    "\n",
    "<a href=\"#ref7\">3. Simulated Annealing</a>  \n",
    "<a href=\"#ref8\">4. Results</a>  \n",
    "<a href=\"#ref9\">5. References</a>    \n",
    "\n",
    "---"
   ]
  },
  {
   "cell_type": "markdown",
   "metadata": {
    "id": "tewuBRbBb-H1"
   },
   "source": [
    "# **1. Problem Description**"
   ]
  },
  {
   "cell_type": "markdown",
   "metadata": {
    "id": "RD2DG5d0a_Lu"
   },
   "source": [
    "The goal of this assignment is to XXX.\n",
    "\n",
    "This notebook implements XXX.\n",
    "\n"
   ]
  },
  {
   "cell_type": "markdown",
   "metadata": {
    "id": "7Ok-BhWRTDot"
   },
   "source": [
    "---\n",
    "The below code cell first removes any existing content in the /content/ directory to ensure a clean slate. Then, it downloads a zip file containing the assignment data from a GitHub repository created for this purpose and extracts its contents into the /content/ directory. Finally, it prints the current directory path and lists the contents of the extracted folder."
   ]
  },
  {
   "cell_type": "markdown",
   "metadata": {
    "id": "qHCML8S5TDos"
   },
   "source": [
    "**🛠️ Setup and Imports**\n",
    "\n",
    "This cell imports the necessary libraries for the Optimization assignment:\n",
    "\n",
    "* **`numpy` (np):** Essential for numerical operations, especially handling array-based image data.\n",
    "* **`matplotlib.pyplot` (plt):** Used for plotting images and visualizing results.\n",
    "* **`glob`:** Used to efficiently retrieve lists of files matching a specified pattern (e.g., all image files in a directory).\n",
    "* **`os`:** Provides a way of interacting with the operating system, useful for path manipulation.\n",
    "* **`pandas` (pd):** Used for data manipulation and analysis, particularly for creating and displaying the required result tables."
   ]
  },
  {
   "cell_type": "code",
   "execution_count": 9,
   "metadata": {
    "executionInfo": {
     "elapsed": 15,
     "status": "ok",
     "timestamp": 1761751261461,
     "user": {
      "displayName": "Matheus Campinho",
      "userId": "18387537887065075512"
     },
     "user_tz": 0
    },
    "id": "LOkOgOaDTDos"
   },
   "outputs": [],
   "source": [
    "import re # Regular expressions library\n",
    "import numpy as np # Numpy library\n",
    "import glob # File pattern matching library\n",
    "import os # Operating system library\n",
    "import matplotlib.pyplot as plt # Matplotlib library\n",
    "import pandas as pd # Pandas library\n",
    "import random # Random number generation library\n",
    "import math # Math library\n",
    "import json # JSON library for structured data handling\n",
    "import pickle # Pickle library for object serialization"
   ]
  },
  {
   "cell_type": "code",
   "execution_count": 12,
   "metadata": {},
   "outputs": [],
   "source": [
    "# TO DO"
   ]
  },
  {
   "cell_type": "markdown",
   "metadata": {
    "id": "-dUPuNQFmXpC"
   },
   "source": [
    "# **<a name=\"ref1\"></a>2. Mathematical Model**"
   ]
  },
  {
   "cell_type": "markdown",
   "metadata": {
    "id": "6TKU8KL8TDot"
   },
   "source": [
    "---\n",
    "## **<a name=\"ref2\"></a>2.1 Parameters and Indices**"
   ]
  },
  {
   "cell_type": "markdown",
   "metadata": {},
   "source": [
    "* $t, t' = \\{0, ..., T\\}$ - Index for the set $T$ of time periods, where $t = 0$ represents the initial conditions of the time horizon (season) and \"overlaps\" with $t = T$ = for the previous season\n",
    "\n",
    "* $g, g1, g2 = {1, ..., G}$ - Index for the set $G$ of vehicle groups\n",
    "\n",
    "* $s, s1, s2, c = {1, ..., S}$ - Index for the set $S$ of rental locations\n",
    "\n",
    "* $r = {1, ..., R}$ - Index for the set $R$ of rental types (characterized by check-out and check-in location and time period, and vehicle group requested)\n",
    "\n",
    "* $sout_r$ - Check-out location of rental type $r$\n",
    "\n",
    "* $sin_r$ - Check-in location of rental type $r$\n",
    "\n",
    "* $dout_r$ - Check-out time period of rental type $r$\n",
    "\n",
    "* $din_r$ - Check-in time period of rental type $r$\n",
    "\n",
    "* $gr_r$ - Vehicle group requested by rental type $r$\n",
    "\n",
    "* $a = \\{0, ..., A\\}$ -  Index for the set of antecedences allowed (number of time periods between the rental request and the start of the rental), where $a = 0$ represents a \"walk-in\" customer\n",
    "\n",
    "* $p = \\{1, ..., P\\}$ - Index for the set $P$ of price levels allowed\n",
    "\n",
    "* $PRI_{pg}$ - Pecuniary value associated with price level p for vehicle group g (for example, for group $g = 2$, price level $p = 1$ has a pecuniary value of $PRI_{1,2} = 20 €$) \n",
    "\n",
    "* $DEM_{rap}$ - Demand for rental type $r$, at price level $p$, with antecedence $a$\n",
    "\n",
    "* $COS_g$ - Buy cost of a vehicle of group $g$. The value considered is the net cost: purchase gross cost minus salvage value derived from its sale after one year\n",
    "\n",
    "* $LEA_g$ - Leasing cost (per time unit) of a vehicle of group $g$ \n",
    "\n",
    "* $OWN_g$ - Ownership cost (per time unit) of a vehicle of group $g$ \n",
    "\n",
    "* $LP_g$ - Leasing period for a vehicle of group $g$ \n",
    "\n",
    "* $PYU$ - Penalty charged for each upgrade \n",
    "\n",
    "* $UPG_{g1g2}$ Whether a vehicle of group $g1$ can be upgraded to a vehicle of group $g2$ (= 1) or not (= 0)\n",
    "\n",
    "* $TT_{s1s2}$ Transfer time from location $s1$ to location $s2$ \n",
    "\n",
    "* $TC_{gs1s2}$ Transfer cost of a vehicle of group $g$ from location s1 to location $s2$ \n",
    "\n",
    "* $BUD$ - Total budget for the purchase of vehicles \n",
    "\n",
    "* $M$ - Big-M large enough coefficient\n",
    "\n",
    "**Other sets:**\n",
    "* $R^{\\mathrm{g^-}}$ - Rental types that do not require group $g$ \n",
    "\n",
    "* $R_{st}^{\\mathrm{in}}$ - Rental types whose check-in is at location $s$ at time $\\in [t-1, t[$\n",
    "\n",
    "* $R_{st}^{\\mathrm{out}}$ -  Rental types whose check-out is at location $s$ at time $\\in [t-1, t[$\n",
    "  \n",
    "* $R_{t}^{\\mathrm{use}}$ - Rental types that require a vehicle to be in use at $t$ (i.e., $dout < t \\land din t \\geq t$)\n",
    "\n",
    "**Inputs from previous seasons (previous decision periods)**\n",
    "* $INX_{gs}^{\\mathrm{O}}$ - Initial number of owned ($O$) vehicles of group $g$ located at $s$, at the beginning of the season ($t = 0$) \n",
    "\n",
    "* $ONY_{gts}^{\\mathrm{L/O}}$ - Number of owned ($O$) or leased ($L$) vehicles of group $g$ on on-going empty transportation (previously decided), being transferred to location $s$, arriving at time $t$ \n",
    "\n",
    "* $ONU_{gts}^{\\mathrm{L/O}}$ - Number of owned ($O$) or leased ($L$) vehicles of group $g$ on on-going rentals (previously decided), being returned to location $s$ at time $t$"
   ]
  },
  {
   "cell_type": "code",
   "execution_count": 11,
   "metadata": {
    "id": "g38uz5zkdBTc"
   },
   "outputs": [],
   "source": [
    "# TO DO"
   ]
  },
  {
   "cell_type": "markdown",
   "metadata": {
    "id": "BhoPrzGTTDou"
   },
   "source": [
    "---\n",
    "## **<a name=\"ref3\"></a>2.2 Decision Variables**"
   ]
  },
  {
   "cell_type": "markdown",
   "metadata": {
    "id": "VosHM60JvRbJ"
   },
   "source": [
    "* $w_{gs}^{\\mathrm{O}}$ - (Number of vehicles of group $g$ acquired for the owned fleet available at $t = 0$ in location $s$)"
   ]
  },
  {
   "cell_type": "code",
   "execution_count": null,
   "metadata": {},
   "outputs": [],
   "source": [
    "# TO DO"
   ]
  },
  {
   "cell_type": "markdown",
   "metadata": {},
   "source": [
    "* $w_{gts}^{\\mathrm{L}}$ - (Number of vehicles of group $g$ acquired by leasing to be available at time $t$ in location $s$)"
   ]
  },
  {
   "cell_type": "code",
   "execution_count": null,
   "metadata": {},
   "outputs": [],
   "source": []
  },
  {
   "cell_type": "markdown",
   "metadata": {},
   "source": [
    "* $q_{rap}$- ($=1$ if price level $p$ is charged for rental type $r$ with antecedence $a$; $= 0$ otherwise)"
   ]
  },
  {
   "cell_type": "code",
   "execution_count": null,
   "metadata": {},
   "outputs": [],
   "source": [
    "# TO DO"
   ]
  },
  {
   "cell_type": "markdown",
   "metadata": {},
   "source": [
    "* $x_{gts}^{\\mathrm{L/O}}$- (Number (stock) of leased ($L$) or owned ($O$) vehicles of group $g$ located at $s$ at time t)"
   ]
  },
  {
   "cell_type": "code",
   "execution_count": null,
   "metadata": {},
   "outputs": [],
   "source": [
    "# TO DO"
   ]
  },
  {
   "cell_type": "markdown",
   "metadata": {},
   "source": [
    "* $y_{s1s2gt}^{\\mathrm{L/O}}$- (Number of leased ($L$) or owned ($O$) vehicles of group $g$ empty transfered at time $t$ from location $s1$ to location $s2$)"
   ]
  },
  {
   "cell_type": "code",
   "execution_count": null,
   "metadata": {
    "executionInfo": {
     "elapsed": 3,
     "status": "ok",
     "timestamp": 1761751436129,
     "user": {
      "displayName": "Matheus Campinho",
      "userId": "18387537887065075512"
     },
     "user_tz": 0
    },
    "id": "VkyYJdAYdTCu"
   },
   "outputs": [],
   "source": [
    "# TO DO"
   ]
  },
  {
   "cell_type": "markdown",
   "metadata": {},
   "source": [
    "* $u_{rag}^{\\mathrm{L/O}}$- (Number of fulfilled rentals requested as rental type $r$ with antecedence $a$ that are served by a leased ($L$) or owned ($O$) vehicles of group $g$)"
   ]
  },
  {
   "cell_type": "code",
   "execution_count": null,
   "metadata": {},
   "outputs": [],
   "source": [
    "# TO DO"
   ]
  },
  {
   "cell_type": "markdown",
   "metadata": {},
   "source": [
    "* $f_{gt}^{\\mathrm{L/O}}$- (Auxiliary variable: total leased ($L$) or owned ($O$) fleet of group $g$ at time $t$)"
   ]
  },
  {
   "cell_type": "code",
   "execution_count": null,
   "metadata": {},
   "outputs": [],
   "source": [
    "# TO DO"
   ]
  },
  {
   "cell_type": "markdown",
   "metadata": {
    "id": "DdMeuCNkCeYT"
   },
   "source": [
    "---\n",
    "## **<a name=\"ref4\"></a>2.3 Objective Function**"
   ]
  },
  {
   "cell_type": "markdown",
   "metadata": {
    "id": "lW9gbbAXENq7"
   },
   "source": [
    "$$\n",
    "\\max \\;\n",
    "\\text{Profit from fulfilled rentals}\n",
    "- \\text{Buying cost}\n",
    "- \\text{Leasing cost}\n",
    "- \\text{Ownership cost}\n",
    "- \\text{Empty transfer cost}\n",
    "- \\text{Penalty for upgrading}\n",
    "$$\n",
    "\n",
    "$$\n",
    "\\max\n",
    "\\sum_{r=1}^{R} \\sum_{a=1}^{A}\n",
    "\\Bigg[\n",
    "\\Bigg(\n",
    "\\sum_{g=1}^{G} (u_{rag}^L + u_{rag}^O)\n",
    "\\Bigg)\n",
    "\\Bigg(\n",
    "\\sum_{p=1}^{P} q_{rap} \\, PRI_{p,gr_r}\n",
    "\\Bigg)\n",
    "- \\sum_{g=1}^{G} \\sum_{s=1}^{S} w_{gs}^O COS_g\n",
    "$$\n",
    "\n",
    "$$\n",
    "- \\sum_{g=1}^{G} \\Bigg( \\sum_{t=1}^{T} f_{gt}^L \\Bigg) LEA_g\n",
    "- \\sum_{g=1}^{G} \\Bigg( \\sum_{t=1}^{T} f_{gt}^O \\Bigg) OWN_g\n",
    "$$\n",
    "\n",
    "$$\n",
    "- \\sum_{s1=1}^{S} \\sum_{s2=1}^{S} \\sum_{g=1}^{G}\n",
    "\\Bigg(\n",
    "\\sum_{t=1}^{T} (y_{s1s2gt}^L + y_{s1s2gt}^O)\n",
    "\\Bigg)\n",
    "TC_{gs1s2}\n",
    "- \\sum_{g=1}^{G} \\sum_{r \\in R^{g^-}} \\sum_{a=1}^{A}\n",
    "(u_{rag}^L + u_{rag}^O) PYU\n",
    "\\Bigg]\n",
    "\n",
    "\\tag{1}\n",
    "$$\n"
   ]
  },
  {
   "cell_type": "code",
   "execution_count": null,
   "metadata": {
    "executionInfo": {
     "elapsed": 10,
     "status": "ok",
     "timestamp": 1761751456755,
     "user": {
      "displayName": "Matheus Campinho",
      "userId": "18387537887065075512"
     },
     "user_tz": 0
    },
    "id": "PooHIuwrdeD-"
   },
   "outputs": [],
   "source": [
    "# TO DO"
   ]
  },
  {
   "cell_type": "markdown",
   "metadata": {
    "id": "6xeRF2VRCkCE"
   },
   "source": [
    "---\n",
    "## **<a name=\"ref5\"></a>2.4. Constraints**"
   ]
  },
  {
   "cell_type": "markdown",
   "metadata": {
    "id": "HHQwcpv6x5iX"
   },
   "source": [
    "$$\n",
    "x_{gts}^O\n",
    "= x_{g,t-1,s}^O\n",
    "+ ONY_{gts}^O\n",
    "+ ONU_{gts}^O\n",
    "$$\n",
    "$$\n",
    "+ \\sum_{r \\in R_{s,t}^{in}} \\sum_{a=1}^{A} u_{r,a,g}^O\n",
    "- \\sum_{r \\in R_{s,t}^{out}} \\sum_{a=1}^{A} u_{r,a,g}^O\n",
    "+ \\sum_{c=1}^{S} y_{c,s,g,t-TTc_s-1}^O\n",
    "- \\sum_{c=1}^{S} y_{s,c,g,t-1}^O\n",
    "\\quad \\forall g, \\; t > 0, \\; s\n",
    "\\tag{2}\n",
    "$$\n"
   ]
  },
  {
   "cell_type": "code",
   "execution_count": null,
   "metadata": {
    "id": "8fqKcRJ2dmBi"
   },
   "outputs": [],
   "source": [
    "# TO DO"
   ]
  },
  {
   "cell_type": "markdown",
   "metadata": {},
   "source": [
    "$$\n",
    "x_{gts}^L\n",
    "= x_{g,t-1,s}^L\n",
    "+ ONY_{gts}^L\n",
    "+ ONU_{gts}^L\n",
    "$$\n",
    "$$\n",
    "+ \\sum_{r \\in R_{s,t}^{in}} \\sum_{a=1}^{A} u_{r,a,g}^L\n",
    "- \\sum_{r \\in R_{s,t}^{out}} \\sum_{a=1}^{A} u_{r,a,g}^L\n",
    "+ \\sum_{c=1}^{S} y_{c,s,g,t-TTc_s-1}^L\n",
    "- \\sum_{c=1}^{S} y_{s,c,g,t-1}^L\n",
    "+ w_{g,t-1,s}^L\n",
    "\\quad \\forall g, \\; 0 < t \\le LP_g, \\; s\n",
    "\\tag{3}\n",
    "$$"
   ]
  },
  {
   "cell_type": "code",
   "execution_count": null,
   "metadata": {},
   "outputs": [],
   "source": [
    "# TO DO"
   ]
  },
  {
   "cell_type": "markdown",
   "metadata": {},
   "source": [
    "$$\n",
    "x_{gts}^L\n",
    "= x_{g,t-1,s}^L\n",
    "+ ONY_{gts}^L\n",
    "+ ONU_{gts}^L\n",
    "$$\n",
    "$$\n",
    "+ \\sum_{r \\in R_{s,t}^{in}} \\sum_{a=1}^{A} u_{r,a,g}^L\n",
    "- \\sum_{r \\in R_{s,t}^{out}} \\sum_{a=1}^{A} u_{r,a,g}^L\n",
    "+ \\sum_{c=1}^{S} y_{c,s,g,t-TT{cs}-1}^L\n",
    "- \\sum_{c=1}^{S} y_{s,c,g,t-1}^L\n",
    "$$\n",
    "$$\n",
    "+ w_{g,t-1,s}^L\n",
    "- w_{g,t-LP_g-1,s}^L\n",
    "\\quad \\forall g, \\; t > LP_g, \\; s\n",
    "\\tag{4}\n",
    "$$\n"
   ]
  },
  {
   "cell_type": "code",
   "execution_count": null,
   "metadata": {},
   "outputs": [],
   "source": [
    "# TO DO"
   ]
  },
  {
   "cell_type": "markdown",
   "metadata": {},
   "source": [
    "$$\n",
    "x_{g0s}^O = INX_{gs}^O + w_{gs}^O \n",
    "\\quad \\forall g, \\; s\n",
    "\\tag{5}\n",
    "$$"
   ]
  },
  {
   "cell_type": "code",
   "execution_count": null,
   "metadata": {},
   "outputs": [],
   "source": [
    "# TO DO"
   ]
  },
  {
   "cell_type": "markdown",
   "metadata": {},
   "source": [
    "$$\n",
    "x_{g0s}^L = 0 \n",
    "\\quad \\forall g, \\; s\n",
    "\\tag{6}\n",
    "$$"
   ]
  },
  {
   "cell_type": "code",
   "execution_count": null,
   "metadata": {},
   "outputs": [],
   "source": [
    "# TO DO"
   ]
  },
  {
   "cell_type": "markdown",
   "metadata": {},
   "source": [
    "$$\n",
    "\\sum_{r \\in R_{st}^{out}} \\sum_{a=1}^{A} u_{rag}^{L/O}\n",
    "+ \\sum_{c=1}^{S} y_{scgt}^{L/O}\n",
    "\\le x_{gts}^{L/O}\n",
    "\\quad \\forall g, \\; t, \\; s\n",
    "\\tag{7}\n",
    "$$"
   ]
  },
  {
   "cell_type": "code",
   "execution_count": 13,
   "metadata": {},
   "outputs": [],
   "source": [
    "# TO DO"
   ]
  },
  {
   "cell_type": "markdown",
   "metadata": {},
   "source": [
    "$$\n",
    "\\sum_{g=1}^{G} \\left( u_{rag}^L + u_{rag}^O \\right)\n",
    "\\le DEM_{rap} + M(1 - q_{rap})\n",
    "\\quad \\forall r, \\; a, \\; p\n",
    "\\tag{8}\n",
    "$$"
   ]
  },
  {
   "cell_type": "code",
   "execution_count": 14,
   "metadata": {},
   "outputs": [],
   "source": [
    "# TO DO"
   ]
  },
  {
   "cell_type": "markdown",
   "metadata": {},
   "source": [
    "$$\n",
    "\\sum_{a=1}^{A} \\left( u_{rag}^L + u_{rag}^O \\right)\n",
    "\\le UPG_{gr_r,g} \\times M\n",
    "\\quad \\forall r, \\; g\n",
    "\\tag{9}\n",
    "$$"
   ]
  },
  {
   "cell_type": "code",
   "execution_count": null,
   "metadata": {},
   "outputs": [],
   "source": [
    "# TO DO"
   ]
  },
  {
   "cell_type": "markdown",
   "metadata": {},
   "source": [
    "$$\n",
    "\\sum_{s=1}^{S} \\sum_{g=1}^{G} w_{gs}^O \\, COS_g \\le BUD\n",
    "\\tag{10}\n",
    "$$"
   ]
  },
  {
   "cell_type": "code",
   "execution_count": null,
   "metadata": {},
   "outputs": [],
   "source": [
    "# TO DO"
   ]
  },
  {
   "cell_type": "markdown",
   "metadata": {},
   "source": [
    "$$\n",
    "\\sum_{p=1}^{P} q_{rap} = 1\n",
    "\\quad \\forall r, \\; a\n",
    "\\tag{11}\n",
    "$$"
   ]
  },
  {
   "cell_type": "code",
   "execution_count": null,
   "metadata": {},
   "outputs": [],
   "source": [
    "# TO DO"
   ]
  },
  {
   "cell_type": "markdown",
   "metadata": {},
   "source": [
    "$$\n",
    "f_{gt}^{L/O}\n",
    "= \\sum_{s=1}^{S} x_{gts}^{L/O}\n",
    "+ \\sum_{r \\in R_{t}^{use}} \\sum_{a=1}^{A} u_{r,a,g}^{L/O}\n",
    "+ \\sum_{s1=1}^{S} \\sum_{s2=1}^{S} \\sum_{t'= \\max \\{0, \\, t - TT_{s1s2}\\}}^{t-1}\n",
    "y_{s1,s2,g,t'}^{L/O}\n",
    "\\quad \\forall g, \\; t\n",
    "\\tag{12}\n",
    "$$"
   ]
  },
  {
   "cell_type": "code",
   "execution_count": 15,
   "metadata": {},
   "outputs": [],
   "source": [
    "# TO DO"
   ]
  },
  {
   "cell_type": "markdown",
   "metadata": {},
   "source": [
    "$$\n",
    "\\begin{aligned}\n",
    "q_{rap} &\\in \\{0, 1\\} && \\forall r, a, p \\\\\n",
    "w_{gts}^L &\\in \\mathbb{Z}_0^+ && \\forall g, t, s \\\\\n",
    "w_{gs}^O &\\in \\mathbb{Z}_0^+ && \\forall g, s \\\\\n",
    "y_{s1s2gt}^{L/O} &\\in \\mathbb{Z}_0^+ && \\forall s1, s2, g, t \\\\\n",
    "x_{gts}^{L/O} &\\in \\mathbb{Z}_0^+ && \\forall g, t, s \\\\\n",
    "u_{rag}^{L/O} &\\in \\mathbb{Z}_0^+ && \\forall r, a, g \\\\\n",
    "f_{gt}^{L/O} &\\in \\mathbb{Z}_0^+ && \\forall g, t\n",
    "\\end{aligned}\n",
    "\\tag{13}\n",
    "$$"
   ]
  },
  {
   "cell_type": "code",
   "execution_count": null,
   "metadata": {},
   "outputs": [],
   "source": [
    "# TO DO"
   ]
  },
  {
   "cell_type": "markdown",
   "metadata": {
    "id": "lJnTbsIxklHG"
   },
   "source": [
    "---\n",
    "# **<a name=\"ref4\"></a>3. Simulated Annealing**"
   ]
  },
  {
   "cell_type": "markdown",
   "metadata": {
    "id": "njRe1GoeklHG"
   },
   "source": [
    "XXX"
   ]
  },
  {
   "cell_type": "code",
   "execution_count": null,
   "metadata": {
    "id": "xanDsPiKklHH"
   },
   "outputs": [],
   "source": [
    "# Simulated Annealing implementation operating on assignment dictionaries\n",
    "\n",
    "class SimulatedAnnealing:\n",
    "    def __init__(self, inst, initial_temp=1000.0, cooling_rate=0.9, iter_per_temp=200, seed=0, budget=None):\n",
    "        self.inst = inst\n",
    "        self.initial_temp = initial_temp\n",
    "        self.cooling_rate = cooling_rate\n",
    "        self.iter_per_temp = iter_per_temp\n",
    "        self.budget = budget if budget is not None else inst.BUD\n",
    "        random.seed(seed)\n",
    "\n",
    "    def initial_solution(self):\n",
    "        \"\"\"Greedy initial solution: try to accept requests if immediate revenue (highest price) gives positive marginal profit.\n",
    "        We'll attempt to accept requests ordered by PRI (descending) until budget exhausted.\n",
    "        \"\"\"\n",
    "        inst = self.inst\n",
    "        assignment = empty_assignment(inst)\n",
    "        # order requests by potential max price for requested group\n",
    "        reqs_sorted = sorted(inst.requests, key=lambda r: max(inst.PRI[p][r.gr] for p in range(inst.P)), reverse=True)\n",
    "        for req in reqs_sorted:\n",
    "            # choose best price level for revenue (highest)\n",
    "            best_p = max(range(inst.P), key=lambda p: inst.PRI[p][req.gr])\n",
    "            assignment_candidate = dict(assignment)\n",
    "            assignment_candidate[req.id] = {'accept':1, 'g_served': req.gr, 'price_level': best_p}\n",
    "            if is_feasible_assignment(inst, assignment_candidate, budget=self.budget):\n",
    "                # accept if objective improves\n",
    "                if objective_value_assignment(inst, assignment_candidate) >= objective_value_assignment(inst, assignment):\n",
    "                    assignment = assignment_candidate\n",
    "        return assignment\n",
    "\n",
    "    def neighbor(self, assignment):\n",
    "        inst = self.inst\n",
    "        new = {k: dict(v) for k, v in assignment.items()}\n",
    "        # choose 1-3 requests to modify\n",
    "        k = random.choice([1,1,2])\n",
    "        ids = random.sample([r.id for r in inst.requests], k)\n",
    "        for req_id in ids:\n",
    "            op = random.choice(['flip_accept', 'change_price', 'upgrade'])\n",
    "            if op == 'flip_accept':\n",
    "                new_val = 1 - new[req_id]['accept']\n",
    "                new[req_id]['accept'] = new_val\n",
    "                if new_val == 1:\n",
    "                    # set a default price level and served group\n",
    "                    new[req_id]['price_level'] = random.randrange(inst.P)\n",
    "                    # choose a served group >= requested if possible\n",
    "                    gr = inst.requests[req_id].gr\n",
    "                    candidates = [g for g in range(inst.G) if inst.UPG[gr][g]==1]\n",
    "                    new[req_id]['g_served'] = random.choice(candidates)\n",
    "            elif op == 'change_price':\n",
    "                if new[req_id]['accept'] == 1:\n",
    "                    new[req_id]['price_level'] = random.randrange(inst.P)\n",
    "            elif op == 'upgrade':\n",
    "                if new[req_id]['accept'] == 1:\n",
    "                    gr = inst.requests[req_id].gr\n",
    "                    candidates = [g for g in range(inst.G) if inst.UPG[gr][g]==1]\n",
    "                    new[req_id]['g_served'] = random.choice(candidates)\n",
    "        return new\n",
    "\n",
    "    def acceptance_prob(self, delta, T):\n",
    "        if delta > 0:\n",
    "            return 1.0\n",
    "        try:\n",
    "            return math.exp(delta / T) if T>0 else 0.0\n",
    "        except OverflowError:\n",
    "            return 0.0\n",
    "\n",
    "    def run(self, max_iters=2000, verbose=False):\n",
    "        T = self.initial_temp\n",
    "        current = self.initial_solution()\n",
    "        current_score = objective_value_assignment(self.inst, current)\n",
    "        best = {k: dict(v) for k,v in current.items()}\n",
    "        best_score = current_score\n",
    "\n",
    "        it = 0\n",
    "        while it < max_iters and T > 1e-6:\n",
    "            for _ in range(self.iter_per_temp):\n",
    "                cand = self.neighbor(current)\n",
    "                if not is_feasible_assignment(self.inst, cand, budget=self.budget):\n",
    "                    continue\n",
    "                score_new = objective_value_assignment(self.inst, cand)\n",
    "                delta = score_new - current_score\n",
    "                if delta > 0 or random.random() < self.acceptance_prob(delta, T):\n",
    "                    current = cand\n",
    "                    current_score = score_new\n",
    "                    if score_new > best_score:\n",
    "                        best_score = score_new\n",
    "                        best = {k: dict(v) for k,v in current.items()}\n",
    "                it += 1\n",
    "                if it >= max_iters:\n",
    "                    break\n",
    "            T *= self.cooling_rate\n",
    "            if verbose:\n",
    "                print(f\"T={T:.4f}, it={it}, best_score={best_score:.2f}\")\n",
    "        # return best assignment and details\n",
    "        profit, details = compute_revenue_and_costs(self.inst, best)\n",
    "        return best, profit, details\n"
   ]
  },
  {
   "cell_type": "markdown",
   "metadata": {
    "id": "s_Xs5O_bnM66"
   },
   "source": [
    "---\n",
    "# **<a name=\"ref4\"></a>4. Results**"
   ]
  },
  {
   "cell_type": "markdown",
   "metadata": {
    "id": "PCcDonAdnM66"
   },
   "source": [
    "XXX"
   ]
  },
  {
   "cell_type": "code",
   "execution_count": null,
   "metadata": {
    "id": "fQu1XF_-nM66"
   },
   "outputs": [],
   "source": [
    "# Example run: generate synthetic instance, run Simulated Annealing and show results\n",
    "\n",
    "inst = make_synthetic_instance(seed=1, G=3, S=4, P=3, A=2, T=24, R=40, BUD=2000.0)\n",
    "sa = SimulatedAnnealing(inst, initial_temp=500.0, cooling_rate=0.92, iter_per_temp=100, seed=42, budget=inst.BUD)\n",
    "best_assign, best_profit, details = sa.run(max_iters=2000, verbose=True)\n",
    "\n",
    "print('\\n=== Results Summary ===')\n",
    "print(f\"Profit: {best_profit:.2f}\")\n",
    "print(f\"Revenue: {details['revenue']:.2f}\")\n",
    "print(f\"Acquisition cost: {details['acquisition']:.2f}\")\n",
    "print(f\"Ownership est.: {details['ownership']:.2f}\")\n",
    "print(f\"Upgrade penalties: {details['upgrade_penalty']:.2f}\")\n",
    "print(f\"Transfer costs est.: {details['transfer_costs']:.2f}\")\n",
    "print(f\"Fleet per group: {details['fleet']}\")\n",
    "\n",
    "accepted = [rid for rid,v in best_assign.items() if v['accept']==1]\n",
    "print(f\"Accepted requests: {len(accepted)} / {len(inst.requests)}\")\n",
    "if len(accepted)>0:\n",
    "    print(\"Sample accepted (first 10):\")\n",
    "    for rid in accepted[:10]:\n",
    "        r = inst.requests[rid]\n",
    "        a = best_assign[rid]\n",
    "        print(f\" req {rid}: rtype={r.rtype}, gr_req={r.gr}, served={a['g_served']}, price_level={a['price_level']}, sin={r.sin}->sout={r.sout}, din={r.din}-{r.dout}\")\n"
   ]
  },
  {
   "cell_type": "markdown",
   "metadata": {
    "id": "BeVmQHWFqHgM"
   },
   "source": [
    "---\n",
    "# **<a name=\"ref6\"></a>5. References**"
   ]
  },
  {
   "cell_type": "markdown",
   "metadata": {
    "id": "E5f4TKnY75JF"
   },
   "source": [
    "[1] XXX\n"
   ]
  },
  {
   "cell_type": "markdown",
   "metadata": {},
   "source": [
    "# **Old Draft**"
   ]
  },
  {
   "cell_type": "code",
   "execution_count": null,
   "metadata": {},
   "outputs": [],
   "source": [
    "# Explore one instance file from a data folder\n",
    "# Adjust DATA_DIR or FILE_IDX if needed\n",
    "\n",
    "DATA_DIR_CANDIDATES = [\"./data\"]\n",
    "FILE_PATTERNS = [\"*.xlsx\"]\n",
    "FILE_IDX = 0  # choose which file from the found list to inspect\n",
    "\n",
    "# find data folder\n",
    "data_dir = next((d for d in DATA_DIR_CANDIDATES if os.path.isdir(d)), None)\n",
    "if data_dir is None:\n",
    "  print(\"No data folder found. Checked:\", DATA_DIR_CANDIDATES)\n",
    "else:\n",
    "  # collect files\n",
    "  files = []\n",
    "  for pat in FILE_PATTERNS:\n",
    "    files.extend(sorted(glob.glob(os.path.join(data_dir, pat))))\n",
    "  if not files:\n",
    "    print(f\"No instance files found in {data_dir} with patterns {FILE_PATTERNS}\")\n",
    "  else:\n",
    "    # pick file\n",
    "    file_path = files[min(FILE_IDX, len(files)-1)]\n",
    "    print(\"Inspecting:\", file_path)\n",
    "\n",
    "    # loader per extension\n",
    "    ext = os.path.splitext(file_path)[1].lower()\n",
    "    loaded = None\n",
    "    if ext in [\".json\"]:\n",
    "      with open(file_path, \"r\") as f:\n",
    "        loaded = json.load(f)\n",
    "    elif ext in [\".npz\", \".npy\"]:\n",
    "      loaded = dict(np.load(file_path, allow_pickle=True))\n",
    "    elif ext in [\".pkl\", \".pickle\"]:\n",
    "      with open(file_path, \"rb\") as f:\n",
    "        loaded = pickle.load(f)\n",
    "    elif ext in [\".csv\"]:\n",
    "      loaded = pd.read_csv(file_path)\n",
    "    elif ext in [\".xls\", \".xlsx\"]:\n",
    "      # read Excel files (single sheet or first sheet by default)\n",
    "      try:\n",
    "        loaded = pd.read_excel(file_path)\n",
    "      except Exception as e:\n",
    "        print(f\"Failed to read Excel file: {e}\")\n",
    "        loaded = None\n",
    "    else:\n",
    "      print(\"Unknown extension:\", ext)\n",
    "      loaded = None\n",
    "\n",
    "    # basic summary\n",
    "    print(\"\\n--- Basic type/info ---\")\n",
    "    print(\"type:\", type(loaded))\n",
    "    if isinstance(loaded, dict):\n",
    "      print(\"keys:\", list(loaded.keys())[:50])\n",
    "    elif isinstance(loaded, pd.DataFrame):\n",
    "      print(\"DataFrame shape:\", loaded.shape)\n",
    "      display(loaded.head())\n",
    "    else:\n",
    "      try:\n",
    "        print(loaded)\n",
    "      except Exception:\n",
    "        pass\n",
    "\n",
    "    # If it's a dict with an instance-like structure, try a friendly inspection\n",
    "    def inspect_instance_dict(d):\n",
    "      # common fields we expect\n",
    "      fields = [\"G\",\"S\",\"A\",\"T\",\"P\",\"R\",\"PRI\",\"DEM\",\"COS\",\"LEA\",\"OWN\",\"LP\",\"PYU\",\"UPG\",\"TT\",\"TC\",\"BUD\",\"requests\"]\n",
    "      present = [f for f in fields if f in d]\n",
    "      print(\"Detected instance fields:\", present)\n",
    "      # print scalars\n",
    "      for key in [\"G\",\"S\",\"A\",\"T\",\"P\",\"R\",\"BUD\",\"PYU\"]:\n",
    "        if key in d:\n",
    "          print(f\"{key}: {d[key]}\")\n",
    "      # PRI matrix preview\n",
    "      if \"PRI\" in d:\n",
    "        pri = np.array(d[\"PRI\"])\n",
    "        print(\"PRI shape:\", pri.shape)\n",
    "        plt.figure(figsize=(4,3))\n",
    "        plt.title(\"PRI (price x group)\")\n",
    "        plt.imshow(pri, aspect='auto', cmap='viridis')\n",
    "        plt.colorbar(label='price')\n",
    "        plt.xlabel('group')\n",
    "        plt.ylabel('price level (p)')\n",
    "        plt.tight_layout()\n",
    "        plt.show()\n",
    "      # requests preview -> DataFrame\n",
    "      if \"requests\" in d:\n",
    "        reqs = d[\"requests\"]\n",
    "        if isinstance(reqs, list) and len(reqs)>0:\n",
    "          df_reqs = pd.DataFrame(reqs)\n",
    "          print(\"requests count:\", len(reqs))\n",
    "          display(df_reqs.head(10))\n",
    "          # histogram of start times per group if columns present\n",
    "          time_col = None\n",
    "          for c in [\"din\",\"start\",\"d_in\",\"d_in_time\"]:\n",
    "            if c in df_reqs.columns:\n",
    "              time_col = c\n",
    "              break\n",
    "          if time_col is None and \"din\" in df_reqs.columns:\n",
    "            time_col = \"din\"\n",
    "          if time_col:\n",
    "            plt.figure(figsize=(6,3))\n",
    "            df_reqs[time_col].hist(bins=20)\n",
    "            plt.title(f\"Histogram of request start times ({time_col})\")\n",
    "            plt.xlabel(\"time\")\n",
    "            plt.ylabel(\"count\")\n",
    "            plt.show()\n",
    "          # counts per requested group\n",
    "          if \"gr\" in df_reqs.columns:\n",
    "            grp_counts = df_reqs[\"gr\"].value_counts().sort_index()\n",
    "            plt.figure(figsize=(5,3))\n",
    "            grp_counts.plot(kind='bar')\n",
    "            plt.title(\"Requests per requested group (gr)\")\n",
    "            plt.xlabel(\"group\")\n",
    "            plt.ylabel(\"count\")\n",
    "            plt.tight_layout()\n",
    "            plt.show()\n",
    "      # DEM summary\n",
    "      if \"DEM\" in d:\n",
    "        dem = d[\"DEM\"]\n",
    "        try:\n",
    "          arr = np.array(dem)\n",
    "          print(\"DEM shape:\", arr.shape)\n",
    "          print(\"DEM sample (sum across r,a,p):\", arr.sum())\n",
    "        except Exception:\n",
    "          pass\n",
    "\n",
    "    if isinstance(loaded, dict):\n",
    "      inspect_instance_dict(loaded)\n",
    "    elif isinstance(loaded, np.lib.npyio.NpzFile) or isinstance(loaded, dict):\n",
    "      # npz loaded as dict above\n",
    "      inspect_instance_dict(loaded)\n",
    "    elif isinstance(loaded, pd.DataFrame):\n",
    "      # already displayed above\n",
    "      pass\n",
    "    else:\n",
    "      # try to introspect attributes (for dataclass Instance loaded directly)\n",
    "      attrs = [a for a in dir(loaded) if not a.startswith(\"_\")]\n",
    "      shortlist = [a for a in attrs if a in [\"G\",\"S\",\"T\",\"P\",\"R\",\"BUD\",\"requests\",\"PRI\"]]\n",
    "      if shortlist:\n",
    "        print(\"Detected attributes:\", shortlist)\n",
    "        for a in shortlist:\n",
    "          val = getattr(loaded, a)\n",
    "          try:\n",
    "            print(f\"{a}: type={type(val)}, preview=\", (val[:5] if hasattr(val, \"__len__\") and not isinstance(val, str) else val))\n",
    "          except Exception:\n",
    "            print(f\"{a}: {val}\")\n",
    "        # requests to DataFrame\n",
    "        if hasattr(loaded, \"requests\"):\n",
    "          try:\n",
    "            df_reqs = pd.DataFrame([r.__dict__ for r in loaded.requests])\n",
    "            display(df_reqs.head())\n",
    "          except Exception:\n",
    "            pass\n",
    "      else:\n",
    "        print(\"Couldn't automatically interpret the loaded object. Inspect 'loaded' manually.\")"
   ]
  },
  {
   "cell_type": "markdown",
   "metadata": {},
   "source": [
    "**Unit Parameters**  \n",
    "* G - number of groups: g = {1, …, G}  \n",
    "* S - number of locations: s = {1, …, S}  \n",
    "* A - number of antecedence levels: a = {0, …, A}, where a=0 representes a \"walk-in\" customer  \n",
    "* T - number of time periods: t = {0, …, T}, where t=0 represents the initial conditions of the time horizon\n",
    "* PYU - Penalty charged for each upgrade  \n",
    "* BUD - Total budget for the purchase of vehicles  \n",
    "\n",
    "**Rental Types**\t  \n",
    "* R - number of rental types: r = {1, …, R}, characterized by check-out location (sout) and time period (dout), check-in location (sin) and time period (din), and group requested (gr) (columns)  \n",
    "\n",
    "**Parameters By Group**  \n",
    "* LEA_g - Leasing cost per time unit of a vehicle of group g (columns)  \n",
    "* LP_g - Leasing period for a vehicle of group g (columns)  \n",
    "* COS_g - Buy cost of a vehicle of group g (columns)  \n",
    "* OWN_g - Ownership cost per time unit of a vehicle of group g (columns)  \n",
    "    \n",
    "**Prices**  \n",
    "* PRI_pg - Monetary value associated with price level p (rows) for vehicle group g (columns)  \n",
    "    \n",
    "**Demand**  \n",
    "* DEM_rap - Demand for rental type r (rows), at price level p and antecedence level a (columns)  \n",
    "    \n",
    "**Upgrades**\t \n",
    "* UPG_g1g2 - Whether a vehicle of group g1 (rows) can be upgraded to a vehicle of group g2 (columns) (=1) or not (=0)  \n",
    "     \n",
    "**Transfer Costs**\t  \n",
    "* TC_gs1s2 - Transfer cost from location s1 (rows) to location s2 of a vehicle of group g (columns)  \n",
    "    \n",
    "**Transfer Times**\t \n",
    "* TT_s1s2\tTransfer time from location s1 (rows) to s2 (columns)  \n",
    "\n"
   ]
  },
  {
   "cell_type": "markdown",
   "metadata": {},
   "source": [
    "**Parameters**\n",
    "\n",
    "* PRI_p,g (pecuniary value associated with price level p for vehicle group g)\n",
    "* DEM_r,a,p (demand for rental type r at price level p with antecedence a)\n",
    "* COS_g (buy cost of a vehicle of group g)\n",
    "* LEA_g (leasing cost per unit time of a vehicle of group g)\n",
    "* OWN_g (ownership cost per unit time of a vehicle of group g)\n",
    "* LPg (leasing period for a vehicle of group g)\n",
    "* PYU (Penalty charged for each upgrade)\n",
    "* UPG_g1_g2 (Whether a vehicle of group g1 can be upgraded to a vehicle of group g2 (= 1 ) or not (=0))\n",
    "* TT_s1_S2 (transfer time from location s1 to location s2)\n",
    "* TC_gs1_s2 (transfer cost of a vehicle of group g from location s1 to location s2)\n",
    "* BUD (total budget for the purchase of vehicle)\n",
    "* M (large constant used in MIP constraints)\n",
    "\n",
    "**Indices**\n",
    "\n",
    "* time periods: t, t' (season time horizon, overlaps)\n",
    "* vehicle groups: g \n",
    "* rental types: r \n",
    "* rental locations: s (pickup/drop-off locations)\n",
    "* price levels: p (price levels)\n",
    "* requests: (each request with check-in/out locations and times)\n",
    "* antecedence: a (number of time periods between the rental request and the start of the rental)"
   ]
  },
  {
   "cell_type": "markdown",
   "metadata": {},
   "source": [
    "## **2.1 Parameters and Indices**"
   ]
  },
  {
   "cell_type": "code",
   "execution_count": null,
   "metadata": {},
   "outputs": [],
   "source": [
    "# Model parameters and instance loader (richer synthetic instance)\n",
    "from dataclasses import dataclass\n",
    "from typing import List, Dict, Tuple, Any\n",
    "import random\n",
    "import math\n",
    "\n",
    "@dataclass\n",
    "class Request:\n",
    "    id: int\n",
    "    rtype: int\n",
    "    gr: int\n",
    "    sin: int\n",
    "    sout: int\n",
    "    din: int\n",
    "    dout: int\n",
    "    antecedence: int\n",
    "\n",
    "@dataclass\n",
    "class Instance:\n",
    "    G: int\n",
    "    S: int\n",
    "    A: int\n",
    "    T: int\n",
    "    P: int\n",
    "    R: int\n",
    "    PRI: List[List[float]]\n",
    "    DEM: List[List[List[int]]],  # DEM[r][a][p]\n",
    "    COS: List[float],\n",
    "    LEA: List[float],\n",
    "    OWN: List[float],\n",
    "    LP: List[int],\n",
    "    PYU: float,\n",
    "    UPG: List[List[int]],\n",
    "    TT: List[List[int]],\n",
    "    TC: List[List[List[float]]],  # TC[g][s1][s2]\n",
    "    BUD: float,\n",
    "    requests: List[Request],\n",
    "\n",
    "def make_synthetic_instance(seed: int = 0, G=2, S=3, P=3, A=2, T=24, R=20, BUD=1000.0):\n",
    "    random.seed(seed)\n",
    "    # Groups indexed 0..G-1, locations 0..S-1, price levels 0..P-1\n",
    "    PRI = [[(20 + 10*g) * (1 + 0.2*p) for g in range(G)] for p in range(P)]\n",
    "    # DEM: for simplicity small integer demand per r,a,p\n",
    "    DEM = [[[random.randint(0,2) for p in range(P)] for a in range(A+1)] for r in range(R)]\n",
    "    COS = [200.0 + 100.0*g for g in range(G)]\n",
    "    LEA = [10.0 + 5.0*g for g in range(G)]\n",
    "    OWN = [2.0 + 0.5*g for g in range(G)]\n",
    "    LP = [3 for _ in range(G)]\n",
    "    PYU = 15.0\n",
    "    # UPG: allow upgrade from lower index to higher index\n",
    "    UPG = [[1 if g2>=g1 else 0 for g2 in range(G)] for g1 in range(G)]\n",
    "    # Transfer times TT between locations (symmetric)\n",
    "    TT = [[0 if i==j else 1 for j in range(S)] for i in range(S)]\n",
    "    # Transfer costs TC[g][s1][s2]\n",
    "    TC = [[[5.0 + 2.0*g + 1.0*(i!=j) for j in range(S)] for i in range(S)] for g in range(G)]\n",
    "    # Create synthetic rental types and expand DEM into individual request units\n",
    "    requests: List[Request] = []\n",
    "    for r in range(R):\n",
    "        # random pickup/dropoff and duration\n",
    "        sin = random.randrange(S)\n",
    "        sout = random.randrange(S)\n",
    "        din = random.randrange(0, T-3)\n",
    "        dout = min(T-1, din + random.randint(1,4))\n",
    "        gr = random.randrange(G)\n",
    "        # for each antecedence and price level, expand DEM[r][a][p] demand units into requests with that antecedence\n",
    "        for a in range(A+1):\n",
    "            for p in range(P):\n",
    "                units = DEM[r][a][p]\n",
    "                for u in range(units):\n",
    "                    req_id = len(requests)\n",
    "                    requests.append(Request(req_id, r, gr, sin, sout, din, dout, a))\n",
    "    inst = Instance(G=G, S=S, A=A, T=T, P=P, R=R, PRI=PRI, DEM=DEM, COS=COS, LEA=LEA, OWN=OWN, LP=LP, PYU=PYU, UPG=UPG, TT=TT, TC=TC, BUD=BUD, requests=requests)\n",
    "    return inst\n",
    "\n",
    "# helper: index sets from instance\n",
    "def index_sets_from_instance(inst: Instance):\n",
    "    G = inst.G\n",
    "    S = inst.S\n",
    "    P = inst.P\n",
    "    A = inst.A\n",
    "    T = inst.T\n",
    "    R = inst.R\n",
    "    return list(range(G)), list(range(S)), list(range(P)), list(range(A+1)), list(range(T)), inst.requests\n"
   ]
  },
  {
   "cell_type": "markdown",
   "metadata": {},
   "source": [
    "## **2.2 Decision Variables**"
   ]
  },
  {
   "cell_type": "code",
   "execution_count": null,
   "metadata": {},
   "outputs": [],
   "source": [
    "# Decision variable utilities for richer instance\n",
    "\n",
    "def derive_fleet_from_assignment(inst, assignment: Dict[int, dict]) -> List[int]:\n",
    "    \"\"\"Compute minimal fleet size per group given an assignment.\n",
    "    assignment: dict mapping req_id -> {'accept':0/1, 'g_served': int, 'price_level': int}\n",
    "    We ignore repositioning and compute per-group peak simultaneous usage across time.\n",
    "    Returns list fleet_counts per group.\n",
    "    \"\"\"\n",
    "    G = inst.G\n",
    "    # time horizon\n",
    "    T = inst.T\n",
    "    fleet = [0 for _ in range(G)]\n",
    "    # build occupancy per group per time\n",
    "    occ = [[0 for _ in range(T)] for _ in range(G)]\n",
    "    for req in inst.requests:\n",
    "        a = assignment.get(req.id, {'accept':0})\n",
    "        if a.get('accept',0) == 1:\n",
    "            g = a.get('g_served', req.gr)\n",
    "            # occupy from din to dout-1\n",
    "            for t in range(req.din, min(req.dout, T)):\n",
    "                occ[g][t] += 1\n",
    "    for g in range(G):\n",
    "        fleet[g] = max(occ[g]) if occ[g] else 0\n",
    "    return fleet\n",
    "\n",
    "\n",
    "def compute_revenue_and_costs(inst, assignment: Dict[int, dict]) -> Tuple[float, dict]:\n",
    "    \"\"\"Compute total revenue and costs (acquisition + ownership + upgrade penalties + transfer est.)\n",
    "    Returns (profit, details dict)\n",
    "    \"\"\"\n",
    "    revenue = 0.0\n",
    "    G = inst.G\n",
    "    # revenue: sum PRI[price_level][g_served]\n",
    "    for req in inst.requests:\n",
    "        a = assignment.get(req.id, {'accept':0})\n",
    "        if a.get('accept',0) == 1:\n",
    "            p = a.get('price_level', 0)\n",
    "            g = a.get('g_served', req.gr)\n",
    "            # price associated with price level p and group g\n",
    "            revenue += inst.PRI[p][g]\n",
    "\n",
    "    # fleet required\n",
    "    fleet = derive_fleet_from_assignment(inst, assignment)\n",
    "    acquisition = sum(inst.COS[g] * fleet[g] for g in range(G))\n",
    "    ownership = sum(inst.OWN[g] * fleet[g] * inst.T for g in range(G))\n",
    "    # upgrade penalty: if served group > requested group then PYU per occurrence\n",
    "    upgrade_penalty = 0.0\n",
    "    for req in inst.requests:\n",
    "        a = assignment.get(req.id, {'accept':0})\n",
    "        if a.get('accept',0) == 1:\n",
    "            g_served = a.get('g_served', req.gr)\n",
    "            if g_served > req.gr:\n",
    "                upgrade_penalty += inst.PYU\n",
    "\n",
    "    # transfer cost estimate: sum TC for each accepted request from sin to sout by g_served\n",
    "    transfer_costs = 0.0\n",
    "    for req in inst.requests:\n",
    "        a = assignment.get(req.id, {'accept':0})\n",
    "        if a.get('accept',0) == 1:\n",
    "            g = a.get('g_served', req.gr)\n",
    "            transfer_costs += inst.TC[g][req.sin][req.sout]\n",
    "\n",
    "    profit = revenue - (acquisition + ownership + upgrade_penalty + transfer_costs)\n",
    "    details = {'revenue': revenue, 'acquisition': acquisition, 'ownership': ownership, 'upgrade_penalty': upgrade_penalty, 'transfer_costs': transfer_costs, 'fleet': fleet}\n",
    "    return profit, details"
   ]
  },
  {
   "cell_type": "markdown",
   "metadata": {},
   "source": [
    "## **2.3 Objective Function**"
   ]
  },
  {
   "cell_type": "code",
   "execution_count": null,
   "metadata": {},
   "outputs": [],
   "source": [
    "# Objective function wrapper using compute_revenue_and_costs\n",
    "\n",
    "def objective_value_assignment(inst, assignment: Dict[int, dict]) -> float:\n",
    "    \"\"\"Return objective value (profit) for an assignment mapping.\n",
    "    assignment: dict mapping req_id -> {'accept':0/1, 'g_served': int, 'price_level': int}\n",
    "    \"\"\"\n",
    "    profit, details = compute_revenue_and_costs(inst, assignment)\n",
    "    return profit\n",
    "\n",
    "# small helper to create empty assignment\n",
    "\n",
    "def empty_assignment(inst):\n",
    "    return {req.id: {'accept': 0, 'g_served': req.gr, 'price_level': 0} for req in inst.requests}\n"
   ]
  },
  {
   "cell_type": "markdown",
   "metadata": {},
   "source": [
    "## **2.4 Constraints**"
   ]
  },
  {
   "cell_type": "code",
   "execution_count": null,
   "metadata": {},
   "outputs": [],
   "source": [
    "# Constraints and feasibility checks for assignment\n",
    "\n",
    "def is_feasible_assignment(inst, assignment: Dict[int, dict], budget=None) -> bool:\n",
    "    \"\"\"Check feasibility of an assignment.\n",
    "    Checks:\n",
    "    - upgrade compatibility: UPG[requested][served] == 1\n",
    "    - acquisition cost within budget (if budget provided)\n",
    "    \"\"\"\n",
    "    # check upgrades\n",
    "    for req in inst.requests:\n",
    "        a = assignment.get(req.id, {'accept':0})\n",
    "        if a.get('accept',0) == 1:\n",
    "            g_req = req.gr\n",
    "            g_served = a.get('g_served', g_req)\n",
    "            if inst.UPG[g_req][g_served] != 1:\n",
    "                return False\n",
    "    # check budget\n",
    "    fleet = derive_fleet_from_assignment(inst, assignment)\n",
    "    acquisition = sum(inst.COS[g] * fleet[g] for g in range(inst.G))\n",
    "    if budget is None:\n",
    "        budget = inst.BUD\n",
    "    return acquisition <= budget\n"
   ]
  }
 ],
 "metadata": {
  "colab": {
   "provenance": [
    {
     "file_id": "1Pemqb3fiDx1xIQEUc0dFxl_p0EWjZ1xI",
     "timestamp": 1760979220027
    }
   ]
  },
  "kernelspec": {
   "display_name": "Python 3",
   "name": "python3"
  },
  "language_info": {
   "codemirror_mode": {
    "name": "ipython",
    "version": 3
   },
   "file_extension": ".py",
   "mimetype": "text/x-python",
   "name": "python",
   "nbconvert_exporter": "python",
   "pygments_lexer": "ipython3",
   "version": "3.11.6"
  }
 },
 "nbformat": 4,
 "nbformat_minor": 0
}
