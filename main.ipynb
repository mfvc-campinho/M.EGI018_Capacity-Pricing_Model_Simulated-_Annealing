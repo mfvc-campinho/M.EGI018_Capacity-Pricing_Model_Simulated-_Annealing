{
 "cells": [
  {
   "cell_type": "markdown",
   "metadata": {
    "id": "7P2S4T5SPwXG"
   },
   "source": [
    "**<h1>[M.EGI018] Operations Management Project</h1>**\n",
    "\n",
    "**<h2>Capacity-Pricing Model - Simulated Annealing</h2>**\n",
    "\n",
    "* **Daniel Pereira** (upXXXXXXXXX@fe.up.pt)\n",
    "* **João Pedro** (upXXXXXXXXX@fe.up.pt)\n",
    "* **Lynn** (upXXXXXXXXX@fe.up.pt)\n",
    "* **Matheus Campinho** (up202402072@fe.up.pt)\n",
    "* **Rui Rodrigues** (upXXXXXXXXX@fe.up.pt)\n",
    "<p> Department of Industrial Engineering and Management </p>  \n",
    "FEUP  \n",
    "\n",
    "----"
   ]
  },
  {
   "cell_type": "markdown",
   "metadata": {
    "id": "U9GIS4k2QhH8"
   },
   "source": [
    "**<h1>Content</h1>**\n",
    "\n",
    "<a href=\"#ref1\">1. Problem Description</a>  \n",
    "<a href=\"#ref2\">2. Mathematical Model</a>  \n",
    "\n",
    "> <a href=\"#ref3\">2.1. Indices and Parameters</a>  \n",
    "> <a href=\"#ref4\">2.2. Decision Variables</a>  \n",
    "> <a href=\"#ref5\">2.3.Objective Function</a>  \n",
    "> <a href=\"#ref6\">2.4. Constraints</a>  \n",
    "\n",
    "<a href=\"#ref7\">3. Simulated Annealing</a>  \n",
    "<a href=\"#ref8\">4. Results</a>  \n",
    "<a href=\"#ref9\">5. References</a>    \n",
    "\n",
    "---"
   ]
  },
  {
   "cell_type": "markdown",
   "metadata": {
    "id": "tewuBRbBb-H1"
   },
   "source": [
    "# **1. Problem Description**"
   ]
  },
  {
   "cell_type": "markdown",
   "metadata": {
    "id": "RD2DG5d0a_Lu"
   },
   "source": [
    "The goal of this assignment is to XXX.\n",
    "\n",
    "This notebook implements XXX.\n",
    "\n"
   ]
  },
  {
   "cell_type": "markdown",
   "metadata": {
    "id": "7Ok-BhWRTDot"
   },
   "source": [
    "---\n",
    "The below code cell first removes any existing content in the /content/ directory to ensure a clean slate. Then, it downloads a zip file containing the assignment data from a GitHub repository created for this purpose and extracts its contents into the /content/ directory. Finally, it prints the current directory path and lists the contents of the extracted folder."
   ]
  },
  {
   "cell_type": "markdown",
   "metadata": {
    "id": "qHCML8S5TDos"
   },
   "source": [
    "**🛠️ Setup and Imports**\n",
    "\n",
    "This cell imports the necessary libraries for the Computer Vision assignment:\n",
    "\n",
    "* **`numpy` (np):** Essential for numerical operations, especially handling array-based image data.\n",
    "* **`matplotlib.pyplot` (plt):** Used for plotting images and visualizing results.\n",
    "* **`glob`:** Used to efficiently retrieve lists of files matching a specified pattern (e.g., all image files in a directory).\n",
    "* **`os`:** Provides a way of interacting with the operating system, useful for path manipulation.\n",
    "* **`pandas` (pd):** Used for data manipulation and analysis, particularly for creating and displaying the required result tables."
   ]
  },
  {
   "cell_type": "code",
   "execution_count": 27,
   "metadata": {
    "executionInfo": {
     "elapsed": 15,
     "status": "ok",
     "timestamp": 1761751261461,
     "user": {
      "displayName": "Matheus Campinho",
      "userId": "18387537887065075512"
     },
     "user_tz": 0
    },
    "id": "LOkOgOaDTDos"
   },
   "outputs": [],
   "source": [
    "import re # Regular expressions library\n",
    "import numpy as np # Numpy library\n",
    "import glob # File pattern matching library\n",
    "import os # Operating system library\n",
    "import matplotlib.pyplot as plt # Matplotlib library\n",
    "import pandas as pd # Pandas library\n",
    "import random # Random number generation library\n",
    "import math # Math library\n",
    "import json # JSON library for structured data handling"
   ]
  },
  {
   "cell_type": "markdown",
   "metadata": {
    "id": "l_SVjhdYujJz"
   },
   "source": [
    "**💾 Data Setup and Extraction**\n",
    "\n",
    "This cell handles environment setup and data access in the Colab notebook:\n",
    "\n",
    "* It **clears** the `/content/` directory.\n",
    "* It **downloads** the necessary dataset ZIP file from GitHub.\n",
    "* It **extracts** the files into the `/content/` directory.\n",
    "* It **defines** the `path` variable for the extracted data, confirming successful setup."
   ]
  },
  {
   "cell_type": "code",
   "execution_count": 39,
   "metadata": {
    "colab": {
     "base_uri": "https://localhost:8080/"
    },
    "executionInfo": {
     "elapsed": 440,
     "status": "ok",
     "timestamp": 1761751416674,
     "user": {
      "displayName": "Matheus Campinho",
      "userId": "18387537887065075512"
     },
     "user_tz": 0
    },
    "id": "gaxgX4T2TDot",
    "outputId": "9937621b-9284-4ba6-e1c4-1ee54a76b989"
   },
   "outputs": [
    {
     "name": "stdout",
     "output_type": "stream",
     "text": [
      "--2025-10-29 15:23:36--  https://github.com/mfvc-campinho/M.EGI018_Capacity-Pricing_Model_Simulated_Annealing/raw/main/Capacity-Pricing_Instances.zip\n",
      "Resolving github.com (github.com)... 140.82.116.4\n",
      "Connecting to github.com (github.com)|140.82.116.4|:443... connected.\n",
      "HTTP request sent, awaiting response... 302 Found\n",
      "Location: https://raw.githubusercontent.com/mfvc-campinho/M.EGI018_Capacity-Pricing_Model_Simulated_Annealing/main/Capacity-Pricing_Instances.zip [following]\n",
      "--2025-10-29 15:23:36--  https://raw.githubusercontent.com/mfvc-campinho/M.EGI018_Capacity-Pricing_Model_Simulated_Annealing/main/Capacity-Pricing_Instances.zip\n",
      "Resolving raw.githubusercontent.com (raw.githubusercontent.com)... 185.199.108.133, 185.199.109.133, 185.199.110.133, ...\n",
      "Connecting to raw.githubusercontent.com (raw.githubusercontent.com)|185.199.108.133|:443... connected.\n",
      "HTTP request sent, awaiting response... 200 OK\n",
      "Length: 2973508 (2.8M) [application/zip]\n",
      "Saving to: ‘/content/Capacity-Pricing_Instances.zip’\n",
      "\n",
      "\r          /content/   0%[                    ]       0  --.-KB/s               \r/content/Capacity-P 100%[===================>]   2.83M  --.-KB/s    in 0.05s   \n",
      "\n",
      "2025-10-29 15:23:36 (56.6 MB/s) - ‘/content/Capacity-Pricing_Instances.zip’ saved [2973508/2973508]\n",
      "\n",
      "📁 Current directory: /content/Capacity-Pricing_Instances\n",
      "📂 Contents: ['Inst35.xlsx', 'Inst29.xlsx', 'Inst24.xlsx', 'Inst2.xlsx', 'Inst21.xlsx', 'Inst10.xlsx', 'Inst37.xlsx', 'Inst38.xlsx', 'Inst39.xlsx', 'Inst15.xlsx', 'Inst4.xlsx', 'Inst16.xlsx', 'Inst8.xlsx', 'Inst5.xlsx', 'Inst17.xlsx', 'Inst1.xlsx', 'Inst23.xlsx', 'Inst34.xlsx', 'Inst7.xlsx', 'Inst33.xlsx', 'Inst6.xlsx', 'Inst25.xlsx', 'Inst32.xlsx', 'Inst20.xlsx', 'Inst26.xlsx', 'Inst14.xlsx', 'desktop.ini', 'Inst31.xlsx', 'Inst22.xlsx', 'Inst27.xlsx', 'Inst36.xlsx', 'Inst11.xlsx', 'Inst19.xlsx', 'Inst12.xlsx', 'Inst18.xlsx', 'Inst40.xlsx', 'Inst9.xlsx', 'Inst30.xlsx', 'Inst13.xlsx', 'Inst28.xlsx', 'Inst3.xlsx']\n"
     ]
    }
   ],
   "source": [
    "!rm -rf /content/*\n",
    "\n",
    "# --- Download ZIP directly from GitHub (use raw content URL) ---\n",
    "!wget -O /content/Capacity-Pricing_Instances.zip https://github.com/mfvc-campinho/M.EGI018_Capacity-Pricing_Model_Simulated_Annealing/raw/main/Capacity-Pricing_Instances.zip\n",
    "\n",
    "# --- Extract to /content ---\n",
    "!unzip -q /content/Capacity-Pricing_Instances.zip -d /content/\n",
    "\n",
    "# Set the path to the extracted directory\n",
    "path = \"/content/Capacity-Pricing_Instances\"\n",
    "print(\"📁 Current directory:\", path)\n",
    "print(\"📂 Contents:\", os.listdir(path))"
   ]
  },
  {
   "cell_type": "markdown",
   "metadata": {},
   "source": [
    "## **Visual Studio Code (Tests Only)**"
   ]
  },
  {
   "cell_type": "code",
   "execution_count": 3,
   "metadata": {},
   "outputs": [
    {
     "name": "stdout",
     "output_type": "stream",
     "text": [
      "Working dir: g:\\O meu disco\\Colab Notebooks\\[M.EGI018] Operations Management Project\n",
      "📥 Downloading from: https://github.com/mfvc-campinho/M.EGI018_Capacity-Pricing_Model_Simulated_Annealing/raw/main/Capacity-Pricing_Instances.zip\n",
      "📦 Extracting zip into: .\\data\n",
      "✅ Done.\n",
      "📁 Contents of .\\data:\n",
      "\n",
      "   [dir]  Capacity-Pricing_Instances\n",
      "  Capacity-Pricing_Instances/\n",
      "   - Inst1.xlsx\n",
      "   - Inst10.xlsx\n",
      "   - Inst11.xlsx\n",
      "   - Inst12.xlsx\n",
      "   - Inst13.xlsx\n",
      "   - Inst14.xlsx\n",
      "   - Inst15.xlsx\n",
      "   - Inst16.xlsx\n",
      "   - Inst17.xlsx\n",
      "   - Inst18.xlsx\n",
      "   - Inst19.xlsx\n",
      "   - Inst2.xlsx\n",
      "   - Inst20.xlsx\n",
      "   - Inst21.xlsx\n",
      "   - Inst22.xlsx\n",
      "   - Inst23.xlsx\n",
      "   - Inst24.xlsx\n",
      "   - Inst25.xlsx\n",
      "   - Inst26.xlsx\n",
      "   - Inst27.xlsx\n",
      "   - Inst28.xlsx\n",
      "   - Inst29.xlsx\n",
      "   - Inst3.xlsx\n",
      "   - Inst30.xlsx\n",
      "   - Inst31.xlsx\n",
      "   - Inst32.xlsx\n",
      "   - Inst33.xlsx\n",
      "   - Inst34.xlsx\n",
      "   - Inst35.xlsx\n",
      "   - Inst36.xlsx\n",
      "   - Inst37.xlsx\n",
      "   - Inst38.xlsx\n",
      "   - Inst39.xlsx\n",
      "   - Inst4.xlsx\n",
      "   - Inst40.xlsx\n",
      "   - Inst5.xlsx\n",
      "   - Inst6.xlsx\n",
      "   - Inst7.xlsx\n",
      "   - Inst8.xlsx\n",
      "   - Inst9.xlsx\n",
      "\n",
      "➡️ Now use 'TARGET_DIR' in your scripts, e.g.:\n",
      "   path = r'g:\\O meu disco\\Colab Notebooks\\[M.EGI018] Operations Management Project\\data'\n"
     ]
    }
   ],
   "source": [
    "#!/usr/bin/env python3\n",
    "\"\"\"\n",
    "fetch_instances.py\n",
    "\n",
    "Baixa e extrai Capacity-Pricing_Instances.zip do repositório GitHub para uma pasta local.\n",
    "Uso: python fetch_instances.py\n",
    "\"\"\"\n",
    "\n",
    "import os\n",
    "import sys\n",
    "import requests\n",
    "import zipfile\n",
    "import io\n",
    "\n",
    "# URL do arquivo ZIP (raw on GitHub)\n",
    "ZIP_URL = \"https://github.com/mfvc-campinho/M.EGI018_Capacity-Pricing_Model_Simulated_Annealing/raw/main/Capacity-Pricing_Instances.zip\"\n",
    "\n",
    "# Pasta de destino (ajuste se desejar)\n",
    "TARGET_DIR = os.path.join(\".\", \"data\")\n",
    "\n",
    "def download_and_extract(url: str, target_dir: str):\n",
    "    os.makedirs(target_dir, exist_ok=True)\n",
    "    print(f\"📥 Downloading from: {url}\")\n",
    "    try:\n",
    "        resp = requests.get(url, stream=True, timeout=30)\n",
    "        resp.raise_for_status()\n",
    "    except requests.RequestException as e:\n",
    "        print(\"❌ Download failed:\", e)\n",
    "        sys.exit(1)\n",
    "\n",
    "    print(\"📦 Extracting zip into:\", target_dir)\n",
    "    try:\n",
    "        with zipfile.ZipFile(io.BytesIO(resp.content)) as z:\n",
    "            z.extractall(target_dir)\n",
    "    except zipfile.BadZipFile as e:\n",
    "        print(\"❌ Error extracting zip file:\", e)\n",
    "        sys.exit(1)\n",
    "\n",
    "    print(\"✅ Done.\")\n",
    "    return target_dir\n",
    "\n",
    "def show_contents(path: str, max_items=200):\n",
    "    if not os.path.exists(path):\n",
    "        print(\"⚠️ Path does not exist:\", path)\n",
    "        return\n",
    "    print(f\"📁 Contents of {path}:\")\n",
    "    for root, dirs, files in os.walk(path):\n",
    "        rel = os.path.relpath(root, path)\n",
    "        indent = \"\" if rel == \".\" else \"  \" + rel + \"/\"\n",
    "        print(indent)\n",
    "        for d in dirs:\n",
    "            print(\"   [dir] \", d)\n",
    "        for f in files:\n",
    "            print(\"   -\", f)\n",
    "        # limit output size\n",
    "        max_items -= (len(dirs) + len(files))\n",
    "        if max_items <= 0:\n",
    "            print(\"... (truncated)\")\n",
    "            return\n",
    "\n",
    "if __name__ == \"__main__\":\n",
    "    print(\"Working dir:\", os.getcwd())\n",
    "    target = download_and_extract(ZIP_URL, TARGET_DIR)\n",
    "    show_contents(target)\n",
    "    print(\"\\n➡️ Now use 'TARGET_DIR' in your scripts, e.g.:\")\n",
    "    print(f\"   path = r'{os.path.abspath(target)}'\")\n"
   ]
  },
  {
   "cell_type": "markdown",
   "metadata": {
    "id": "-dUPuNQFmXpC"
   },
   "source": [
    "# **<a name=\"ref1\"></a>2. Mathematical Model**"
   ]
  },
  {
   "cell_type": "markdown",
   "metadata": {
    "id": "6TKU8KL8TDot"
   },
   "source": [
    "---\n",
    "## **<a name=\"ref2\"></a>2.1. Parameters and Indices**"
   ]
  },
  {
   "cell_type": "markdown",
   "metadata": {
    "id": "lATguwu7TDot"
   },
   "source": [
    "**Unit Parameters**  \n",
    "* G - number of groups: g = {1, …, G}  \n",
    "* S - number of locations: s = {1, …, S}  \n",
    "* A - number of antecedence levels: a = {0, …, A}, where a=0 representes a \"walk-in\" customer  \n",
    "* T - number of time periods: t = {0, …, T}, where t=0 represents the initial conditions of the time horizon\n",
    "* PYU - Penalty charged for each upgrade  \n",
    "* BUD - Total budget for the purchase of vehicles  \n",
    "\n",
    "**Rental Types**\t  \n",
    "* R - number of rental types: r = {1, …, R}, characterized by check-out location (sout) and time period (dout), check-in location (sin) and time period (din), and group requested (gr) (columns)  \n",
    "\n",
    "**Parameters By Group**  \n",
    "* LEA_g - Leasing cost per time unit of a vehicle of group g (columns)  \n",
    "* LP_g - Leasing period for a vehicle of group g (columns)  \n",
    "* COS_g - Buy cost of a vehicle of group g (columns)  \n",
    "* OWN_g - Ownership cost per time unit of a vehicle of group g (columns)  \n",
    "    \n",
    "**Prices**  \n",
    "* PRI_pg - Monetary value associated with price level p (rows) for vehicle group g (columns)  \n",
    "    \n",
    "**Demand**  \n",
    "* DEM_rap - Demand for rental type r (rows), at price level p and antecedence level a (columns)  \n",
    "    \n",
    "**Upgrades**\t \n",
    "* UPG_g1g2 - Whether a vehicle of group g1 (rows) can be upgraded to a vehicle of group g2 (columns) (=1) or not (=0)  \n",
    "     \n",
    "**Transfer Costs**\t  \n",
    "* TC_gs1s2 - Transfer cost from location s1 (rows) to location s2 of a vehicle of group g (columns)  \n",
    "    \n",
    "**Transfer Times**\t \n",
    "* TT_s1s2\tTransfer time from location s1 (rows) to s2 (columns)  \n",
    "\n"
   ]
  },
  {
   "cell_type": "markdown",
   "metadata": {},
   "source": [
    "**Indices**\n",
    "\n",
    "* time periods: t, t' (season time horizon, overlaps)\n",
    "* vehicle groups: g \n",
    "* rental types: r \n",
    "* rental locations: s (pickup/drop-off locations)\n",
    "* price levels: p (price levels)\n",
    "* requests: (each request with check-in/out locations and times)\n",
    "* antecedence: a (number of time periods between the rental request and the start of the rental)"
   ]
  },
  {
   "cell_type": "markdown",
   "metadata": {},
   "source": [
    "**Parameters**\n",
    "\n",
    "* PRI_p,g (pecuniary value associated with price level p for vehicle group g)\n",
    "* DEM_r,a,p (demand for rental type r at price level p with antecedence a)\n",
    "* COS_g (buy cost of a vehicle of group g)\n",
    "* LEA_g (leasing cost per unit time of a vehicle of group g)\n",
    "* OWN_g (ownership cost per unit time of a vehicle of group g)\n",
    "* LPg (leasing period for a vehicle of group g)\n",
    "* PYU (Penalty charged for each upgrade)\n",
    "* UPG_g1_g2 (Whether a vehicle of group g1 can be upgraded to a vehicle of group g2 (= 1 ) or not (=0))\n",
    "* TT_s1_S2 (transfer time from location s1 to location s2)\n",
    "* TC_gs1_s2 (transfer cost of a vehicle of group g from location s1 to location s2)\n",
    "* BUD (total budget for the purchase of vehicle)\n",
    "* M (large constant used in MIP constraints)"
   ]
  },
  {
   "cell_type": "code",
   "execution_count": null,
   "metadata": {
    "id": "g38uz5zkdBTc"
   },
   "outputs": [
    {
     "ename": "SyntaxError",
     "evalue": "invalid syntax (2703203683.py, line 27)",
     "output_type": "error",
     "traceback": [
      "\u001b[1;36m  Cell \u001b[1;32mIn[6], line 27\u001b[1;36m\u001b[0m\n\u001b[1;33m    DEM: List[List[List[int]]],  # DEM[r][a][p]\u001b[0m\n\u001b[1;37m                              ^\u001b[0m\n\u001b[1;31mSyntaxError\u001b[0m\u001b[1;31m:\u001b[0m invalid syntax\n"
     ]
    }
   ],
   "source": [
    "# Model parameters and instance loader (richer synthetic instance)\n",
    "from dataclasses import dataclass\n",
    "from typing import List, Dict, Tuple, Any\n",
    "import random\n",
    "import math\n",
    "\n",
    "@dataclass\n",
    "class Request:\n",
    "    id: int\n",
    "    rtype: int\n",
    "    gr: int\n",
    "    sin: int\n",
    "    sout: int\n",
    "    din: int\n",
    "    dout: int\n",
    "    antecedence: int\n",
    "\n",
    "@dataclass\n",
    "class Instance:\n",
    "    G: int\n",
    "    S: int\n",
    "    A: int\n",
    "    T: int\n",
    "    P: int\n",
    "    R: int\n",
    "    PRI: List[List[float]]\n",
    "    DEM: List[List[List[int]]],  # DEM[r][a][p]\n",
    "    COS: List[float],\n",
    "    LEA: List[float],\n",
    "    OWN: List[float],\n",
    "    LP: List[int],\n",
    "    PYU: float,\n",
    "    UPG: List[List[int]],\n",
    "    TT: List[List[int]],\n",
    "    TC: List[List[List[float]]],  # TC[g][s1][s2]\n",
    "    BUD: float,\n",
    "    requests: List[Request],\n",
    "\n",
    "def make_synthetic_instance(seed: int = 0, G=2, S=3, P=3, A=2, T=24, R=20, BUD=1000.0):\n",
    "    random.seed(seed)\n",
    "    # Groups indexed 0..G-1, locations 0..S-1, price levels 0..P-1\n",
    "    PRI = [[(20 + 10*g) * (1 + 0.2*p) for g in range(G)] for p in range(P)]\n",
    "    # DEM: for simplicity small integer demand per r,a,p\n",
    "    DEM = [[[random.randint(0,2) for p in range(P)] for a in range(A+1)] for r in range(R)]\n",
    "    COS = [200.0 + 100.0*g for g in range(G)]\n",
    "    LEA = [10.0 + 5.0*g for g in range(G)]\n",
    "    OWN = [2.0 + 0.5*g for g in range(G)]\n",
    "    LP = [3 for _ in range(G)]\n",
    "    PYU = 15.0\n",
    "    # UPG: allow upgrade from lower index to higher index\n",
    "    UPG = [[1 if g2>=g1 else 0 for g2 in range(G)] for g1 in range(G)]\n",
    "    # Transfer times TT between locations (symmetric)\n",
    "    TT = [[0 if i==j else 1 for j in range(S)] for i in range(S)]\n",
    "    # Transfer costs TC[g][s1][s2]\n",
    "    TC = [[[5.0 + 2.0*g + 1.0*(i!=j) for j in range(S)] for i in range(S)] for g in range(G)]\n",
    "    # Create synthetic rental types and expand DEM into individual request units\n",
    "    requests: List[Request] = []\n",
    "    for r in range(R):\n",
    "        # random pickup/dropoff and duration\n",
    "        sin = random.randrange(S)\n",
    "        sout = random.randrange(S)\n",
    "        din = random.randrange(0, T-3)\n",
    "        dout = min(T-1, din + random.randint(1,4))\n",
    "        gr = random.randrange(G)\n",
    "        # for each antecedence and price level, expand DEM[r][a][p] demand units into requests with that antecedence\n",
    "        for a in range(A+1):\n",
    "            for p in range(P):\n",
    "                units = DEM[r][a][p]\n",
    "                for u in range(units):\n",
    "                    req_id = len(requests)\n",
    "                    requests.append(Request(req_id, r, gr, sin, sout, din, dout, a))\n",
    "    inst = Instance(G=G, S=S, A=A, T=T, P=P, R=R, PRI=PRI, DEM=DEM, COS=COS, LEA=LEA, OWN=OWN, LP=LP, PYU=PYU, UPG=UPG, TT=TT, TC=TC, BUD=BUD, requests=requests)\n",
    "    return inst\n",
    "\n",
    "# helper: index sets from instance\n",
    "def index_sets_from_instance(inst: Instance):\n",
    "    G = inst.G\n",
    "    S = inst.S\n",
    "    P = inst.P\n",
    "    A = inst.A\n",
    "    T = inst.T\n",
    "    R = inst.R\n",
    "    return list(range(G)), list(range(S)), list(range(P)), list(range(A+1)), list(range(T)), inst.requests\n"
   ]
  },
  {
   "cell_type": "markdown",
   "metadata": {
    "id": "BhoPrzGTTDou"
   },
   "source": [
    "---\n",
    "## **<a name=\"ref3\"></a>2.2. Decision Variables**"
   ]
  },
  {
   "cell_type": "markdown",
   "metadata": {
    "id": "VosHM60JvRbJ"
   },
   "source": [
    "* (Number of vehicles of group g acquired for the owned fleet available at t = 0 in location s)\n",
    "* (Number of vehicles of group g acquired by leasing to be available at time t in location s)\n",
    "* (=1 if price level p is charged for rental type r with antecedence a; = 0 otherwise)\n",
    "* (Number (stock) of leased (L) or owned (O) vehicles of group g located at s at time t)\n",
    "* (Number of leased (L) or owned (O) vehicles of group g empty transfered at time t from location s1 to location s2)\n",
    "* (Number of fulfilled rentals requested as rental type r with antecedence a that are served by a leased (L) or owned (O) vehicles of group g)\n",
    "* (Auxiliary variable: total leased (L) or owned (O) fleet of group g at time t)XXX"
   ]
  },
  {
   "cell_type": "code",
   "execution_count": null,
   "metadata": {
    "executionInfo": {
     "elapsed": 3,
     "status": "ok",
     "timestamp": 1761751436129,
     "user": {
      "displayName": "Matheus Campinho",
      "userId": "18387537887065075512"
     },
     "user_tz": 0
    },
    "id": "VkyYJdAYdTCu"
   },
   "outputs": [],
   "source": [
    "# Decision variable utilities for richer instance\n",
    "\n",
    "def derive_fleet_from_assignment(inst, assignment: Dict[int, dict]) -> List[int]:\n",
    "    \"\"\"Compute minimal fleet size per group given an assignment.\n",
    "    assignment: dict mapping req_id -> {'accept':0/1, 'g_served': int, 'price_level': int}\n",
    "    We ignore repositioning and compute per-group peak simultaneous usage across time.\n",
    "    Returns list fleet_counts per group.\n",
    "    \"\"\"\n",
    "    G = inst.G\n",
    "    # time horizon\n",
    "    T = inst.T\n",
    "    fleet = [0 for _ in range(G)]\n",
    "    # build occupancy per group per time\n",
    "    occ = [[0 for _ in range(T)] for _ in range(G)]\n",
    "    for req in inst.requests:\n",
    "        a = assignment.get(req.id, {'accept':0})\n",
    "        if a.get('accept',0) == 1:\n",
    "            g = a.get('g_served', req.gr)\n",
    "            # occupy from din to dout-1\n",
    "            for t in range(req.din, min(req.dout, T)):\n",
    "                occ[g][t] += 1\n",
    "    for g in range(G):\n",
    "        fleet[g] = max(occ[g]) if occ[g] else 0\n",
    "    return fleet\n",
    "\n",
    "\n",
    "def compute_revenue_and_costs(inst, assignment: Dict[int, dict]) -> Tuple[float, dict]:\n",
    "    \"\"\"Compute total revenue and costs (acquisition + ownership + upgrade penalties + transfer est.)\n",
    "    Returns (profit, details dict)\n",
    "    \"\"\"\n",
    "    revenue = 0.0\n",
    "    G = inst.G\n",
    "    # revenue: sum PRI[price_level][g_served]\n",
    "    for req in inst.requests:\n",
    "        a = assignment.get(req.id, {'accept':0})\n",
    "        if a.get('accept',0) == 1:\n",
    "            p = a.get('price_level', 0)\n",
    "            g = a.get('g_served', req.gr)\n",
    "            # price associated with price level p and group g\n",
    "            revenue += inst.PRI[p][g]\n",
    "\n",
    "    # fleet required\n",
    "    fleet = derive_fleet_from_assignment(inst, assignment)\n",
    "    acquisition = sum(inst.COS[g] * fleet[g] for g in range(G))\n",
    "    ownership = sum(inst.OWN[g] * fleet[g] * inst.T for g in range(G))\n",
    "    # upgrade penalty: if served group > requested group then PYU per occurrence\n",
    "    upgrade_penalty = 0.0\n",
    "    for req in inst.requests:\n",
    "        a = assignment.get(req.id, {'accept':0})\n",
    "        if a.get('accept',0) == 1:\n",
    "            g_served = a.get('g_served', req.gr)\n",
    "            if g_served > req.gr:\n",
    "                upgrade_penalty += inst.PYU\n",
    "\n",
    "    # transfer cost estimate: sum TC for each accepted request from sin to sout by g_served\n",
    "    transfer_costs = 0.0\n",
    "    for req in inst.requests:\n",
    "        a = assignment.get(req.id, {'accept':0})\n",
    "        if a.get('accept',0) == 1:\n",
    "            g = a.get('g_served', req.gr)\n",
    "            transfer_costs += inst.TC[g][req.sin][req.sout]\n",
    "\n",
    "    profit = revenue - (acquisition + ownership + upgrade_penalty + transfer_costs)\n",
    "    details = {'revenue': revenue, 'acquisition': acquisition, 'ownership': ownership, 'upgrade_penalty': upgrade_penalty, 'transfer_costs': transfer_costs, 'fleet': fleet}\n",
    "    return profit, details"
   ]
  },
  {
   "cell_type": "markdown",
   "metadata": {
    "id": "DdMeuCNkCeYT"
   },
   "source": [
    "---\n",
    "## **<a name=\"ref4\"></a>2.3. Objective Function**"
   ]
  },
  {
   "cell_type": "markdown",
   "metadata": {
    "id": "lW9gbbAXENq7"
   },
   "source": [
    "XXX"
   ]
  },
  {
   "cell_type": "code",
   "execution_count": null,
   "metadata": {
    "executionInfo": {
     "elapsed": 10,
     "status": "ok",
     "timestamp": 1761751456755,
     "user": {
      "displayName": "Matheus Campinho",
      "userId": "18387537887065075512"
     },
     "user_tz": 0
    },
    "id": "PooHIuwrdeD-"
   },
   "outputs": [],
   "source": [
    "# Objective function wrapper using compute_revenue_and_costs\n",
    "\n",
    "def objective_value_assignment(inst, assignment: Dict[int, dict]) -> float:\n",
    "    \"\"\"Return objective value (profit) for an assignment mapping.\n",
    "    assignment: dict mapping req_id -> {'accept':0/1, 'g_served': int, 'price_level': int}\n",
    "    \"\"\"\n",
    "    profit, details = compute_revenue_and_costs(inst, assignment)\n",
    "    return profit\n",
    "\n",
    "# small helper to create empty assignment\n",
    "\n",
    "def empty_assignment(inst):\n",
    "    return {req.id: {'accept': 0, 'g_served': req.gr, 'price_level': 0} for req in inst.requests}\n"
   ]
  },
  {
   "cell_type": "markdown",
   "metadata": {
    "id": "6xeRF2VRCkCE"
   },
   "source": [
    "---\n",
    "## **<a name=\"ref5\"></a>2.4. Constraints**"
   ]
  },
  {
   "cell_type": "markdown",
   "metadata": {
    "id": "HHQwcpv6x5iX"
   },
   "source": [
    "XXX"
   ]
  },
  {
   "cell_type": "code",
   "execution_count": null,
   "metadata": {
    "id": "8fqKcRJ2dmBi"
   },
   "outputs": [],
   "source": [
    "# Constraints and feasibility checks for assignment\n",
    "\n",
    "def is_feasible_assignment(inst, assignment: Dict[int, dict], budget=None) -> bool:\n",
    "    \"\"\"Check feasibility of an assignment.\n",
    "    Checks:\n",
    "    - upgrade compatibility: UPG[requested][served] == 1\n",
    "    - acquisition cost within budget (if budget provided)\n",
    "    \"\"\"\n",
    "    # check upgrades\n",
    "    for req in inst.requests:\n",
    "        a = assignment.get(req.id, {'accept':0})\n",
    "        if a.get('accept',0) == 1:\n",
    "            g_req = req.gr\n",
    "            g_served = a.get('g_served', g_req)\n",
    "            if inst.UPG[g_req][g_served] != 1:\n",
    "                return False\n",
    "    # check budget\n",
    "    fleet = derive_fleet_from_assignment(inst, assignment)\n",
    "    acquisition = sum(inst.COS[g] * fleet[g] for g in range(inst.G))\n",
    "    if budget is None:\n",
    "        budget = inst.BUD\n",
    "    return acquisition <= budget\n"
   ]
  },
  {
   "cell_type": "markdown",
   "metadata": {
    "id": "lJnTbsIxklHG"
   },
   "source": [
    "---\n",
    "# **<a name=\"ref4\"></a>3. Simulated Annealing**"
   ]
  },
  {
   "cell_type": "markdown",
   "metadata": {
    "id": "njRe1GoeklHG"
   },
   "source": [
    "XXX"
   ]
  },
  {
   "cell_type": "code",
   "execution_count": null,
   "metadata": {
    "id": "xanDsPiKklHH"
   },
   "outputs": [],
   "source": [
    "# Simulated Annealing implementation operating on assignment dictionaries\n",
    "\n",
    "class SimulatedAnnealing:\n",
    "    def __init__(self, inst, initial_temp=1000.0, cooling_rate=0.9, iter_per_temp=200, seed=0, budget=None):\n",
    "        self.inst = inst\n",
    "        self.initial_temp = initial_temp\n",
    "        self.cooling_rate = cooling_rate\n",
    "        self.iter_per_temp = iter_per_temp\n",
    "        self.budget = budget if budget is not None else inst.BUD\n",
    "        random.seed(seed)\n",
    "\n",
    "    def initial_solution(self):\n",
    "        \"\"\"Greedy initial solution: try to accept requests if immediate revenue (highest price) gives positive marginal profit.\n",
    "        We'll attempt to accept requests ordered by PRI (descending) until budget exhausted.\n",
    "        \"\"\"\n",
    "        inst = self.inst\n",
    "        assignment = empty_assignment(inst)\n",
    "        # order requests by potential max price for requested group\n",
    "        reqs_sorted = sorted(inst.requests, key=lambda r: max(inst.PRI[p][r.gr] for p in range(inst.P)), reverse=True)\n",
    "        for req in reqs_sorted:\n",
    "            # choose best price level for revenue (highest)\n",
    "            best_p = max(range(inst.P), key=lambda p: inst.PRI[p][req.gr])\n",
    "            assignment_candidate = dict(assignment)\n",
    "            assignment_candidate[req.id] = {'accept':1, 'g_served': req.gr, 'price_level': best_p}\n",
    "            if is_feasible_assignment(inst, assignment_candidate, budget=self.budget):\n",
    "                # accept if objective improves\n",
    "                if objective_value_assignment(inst, assignment_candidate) >= objective_value_assignment(inst, assignment):\n",
    "                    assignment = assignment_candidate\n",
    "        return assignment\n",
    "\n",
    "    def neighbor(self, assignment):\n",
    "        inst = self.inst\n",
    "        new = {k: dict(v) for k, v in assignment.items()}\n",
    "        # choose 1-3 requests to modify\n",
    "        k = random.choice([1,1,2])\n",
    "        ids = random.sample([r.id for r in inst.requests], k)\n",
    "        for req_id in ids:\n",
    "            op = random.choice(['flip_accept', 'change_price', 'upgrade'])\n",
    "            if op == 'flip_accept':\n",
    "                new_val = 1 - new[req_id]['accept']\n",
    "                new[req_id]['accept'] = new_val\n",
    "                if new_val == 1:\n",
    "                    # set a default price level and served group\n",
    "                    new[req_id]['price_level'] = random.randrange(inst.P)\n",
    "                    # choose a served group >= requested if possible\n",
    "                    gr = inst.requests[req_id].gr\n",
    "                    candidates = [g for g in range(inst.G) if inst.UPG[gr][g]==1]\n",
    "                    new[req_id]['g_served'] = random.choice(candidates)\n",
    "            elif op == 'change_price':\n",
    "                if new[req_id]['accept'] == 1:\n",
    "                    new[req_id]['price_level'] = random.randrange(inst.P)\n",
    "            elif op == 'upgrade':\n",
    "                if new[req_id]['accept'] == 1:\n",
    "                    gr = inst.requests[req_id].gr\n",
    "                    candidates = [g for g in range(inst.G) if inst.UPG[gr][g]==1]\n",
    "                    new[req_id]['g_served'] = random.choice(candidates)\n",
    "        return new\n",
    "\n",
    "    def acceptance_prob(self, delta, T):\n",
    "        if delta > 0:\n",
    "            return 1.0\n",
    "        try:\n",
    "            return math.exp(delta / T) if T>0 else 0.0\n",
    "        except OverflowError:\n",
    "            return 0.0\n",
    "\n",
    "    def run(self, max_iters=2000, verbose=False):\n",
    "        T = self.initial_temp\n",
    "        current = self.initial_solution()\n",
    "        current_score = objective_value_assignment(self.inst, current)\n",
    "        best = {k: dict(v) for k,v in current.items()}\n",
    "        best_score = current_score\n",
    "\n",
    "        it = 0\n",
    "        while it < max_iters and T > 1e-6:\n",
    "            for _ in range(self.iter_per_temp):\n",
    "                cand = self.neighbor(current)\n",
    "                if not is_feasible_assignment(self.inst, cand, budget=self.budget):\n",
    "                    continue\n",
    "                score_new = objective_value_assignment(self.inst, cand)\n",
    "                delta = score_new - current_score\n",
    "                if delta > 0 or random.random() < self.acceptance_prob(delta, T):\n",
    "                    current = cand\n",
    "                    current_score = score_new\n",
    "                    if score_new > best_score:\n",
    "                        best_score = score_new\n",
    "                        best = {k: dict(v) for k,v in current.items()}\n",
    "                it += 1\n",
    "                if it >= max_iters:\n",
    "                    break\n",
    "            T *= self.cooling_rate\n",
    "            if verbose:\n",
    "                print(f\"T={T:.4f}, it={it}, best_score={best_score:.2f}\")\n",
    "        # return best assignment and details\n",
    "        profit, details = compute_revenue_and_costs(self.inst, best)\n",
    "        return best, profit, details\n"
   ]
  },
  {
   "cell_type": "markdown",
   "metadata": {
    "id": "s_Xs5O_bnM66"
   },
   "source": [
    "---\n",
    "# **<a name=\"ref4\"></a>4. Results**"
   ]
  },
  {
   "cell_type": "markdown",
   "metadata": {
    "id": "PCcDonAdnM66"
   },
   "source": [
    "XXX"
   ]
  },
  {
   "cell_type": "code",
   "execution_count": null,
   "metadata": {
    "id": "fQu1XF_-nM66"
   },
   "outputs": [],
   "source": [
    "# Example run: generate synthetic instance, run Simulated Annealing and show results\n",
    "\n",
    "inst = make_synthetic_instance(seed=1, G=3, S=4, P=3, A=2, T=24, R=40, BUD=2000.0)\n",
    "sa = SimulatedAnnealing(inst, initial_temp=500.0, cooling_rate=0.92, iter_per_temp=100, seed=42, budget=inst.BUD)\n",
    "best_assign, best_profit, details = sa.run(max_iters=2000, verbose=True)\n",
    "\n",
    "print('\\n=== Results Summary ===')\n",
    "print(f\"Profit: {best_profit:.2f}\")\n",
    "print(f\"Revenue: {details['revenue']:.2f}\")\n",
    "print(f\"Acquisition cost: {details['acquisition']:.2f}\")\n",
    "print(f\"Ownership est.: {details['ownership']:.2f}\")\n",
    "print(f\"Upgrade penalties: {details['upgrade_penalty']:.2f}\")\n",
    "print(f\"Transfer costs est.: {details['transfer_costs']:.2f}\")\n",
    "print(f\"Fleet per group: {details['fleet']}\")\n",
    "\n",
    "accepted = [rid for rid,v in best_assign.items() if v['accept']==1]\n",
    "print(f\"Accepted requests: {len(accepted)} / {len(inst.requests)}\")\n",
    "if len(accepted)>0:\n",
    "    print(\"Sample accepted (first 10):\")\n",
    "    for rid in accepted[:10]:\n",
    "        r = inst.requests[rid]\n",
    "        a = best_assign[rid]\n",
    "        print(f\" req {rid}: rtype={r.rtype}, gr_req={r.gr}, served={a['g_served']}, price_level={a['price_level']}, sin={r.sin}->sout={r.sout}, din={r.din}-{r.dout}\")\n"
   ]
  },
  {
   "cell_type": "markdown",
   "metadata": {
    "id": "BeVmQHWFqHgM"
   },
   "source": [
    "---\n",
    "# **<a name=\"ref6\"></a>5. References**"
   ]
  },
  {
   "cell_type": "markdown",
   "metadata": {
    "id": "E5f4TKnY75JF"
   },
   "source": [
    "[1] XXX\n"
   ]
  }
 ],
 "metadata": {
  "colab": {
   "provenance": [
    {
     "file_id": "1Pemqb3fiDx1xIQEUc0dFxl_p0EWjZ1xI",
     "timestamp": 1760979220027
    }
   ]
  },
  "kernelspec": {
   "display_name": "Python 3",
   "name": "python3"
  },
  "language_info": {
   "codemirror_mode": {
    "name": "ipython",
    "version": 3
   },
   "file_extension": ".py",
   "mimetype": "text/x-python",
   "name": "python",
   "nbconvert_exporter": "python",
   "pygments_lexer": "ipython3",
   "version": "3.11.6"
  }
 },
 "nbformat": 4,
 "nbformat_minor": 0
}
